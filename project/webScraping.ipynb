{
 "cells": [
  {
   "attachments": {},
   "cell_type": "markdown",
   "metadata": {},
   "source": [
    "# Bibliotecas utilizadas"
   ]
  },
  {
   "cell_type": "code",
   "execution_count": 1,
   "metadata": {},
   "outputs": [],
   "source": [
    "import pandas as pd\n",
    "import sqlite3\n",
    "import requests\n",
    "import bs4\n",
    "import time\n",
    "\n",
    "from IPython.display import IFrame"
   ]
  },
  {
   "attachments": {},
   "cell_type": "markdown",
   "metadata": {},
   "source": [
    "# Coleta de dados: Web Scraping"
   ]
  },
  {
   "attachments": {},
   "cell_type": "markdown",
   "metadata": {},
   "source": [
    "## Minha identificação ao usar o navegador para acessar sites com o Google Chrome"
   ]
  },
  {
   "cell_type": "code",
   "execution_count": 2,
   "metadata": {},
   "outputs": [],
   "source": [
    "# Identificação do \"Usuário agente\"\n",
    "agente = 'xxxxxxxxxxxxxxxxxxx'\n",
    "\n",
    "# Criando chave de identificação\n",
    "headers = { 'User-Agente': agente }"
   ]
  },
  {
   "attachments": {},
   "cell_type": "markdown",
   "metadata": {},
   "source": [
    "## Processo de scraping"
   ]
  },
  {
   "attachments": {},
   "cell_type": "markdown",
   "metadata": {},
   "source": [
    "### **Coletando HTML de site**\n",
    "<font size = '3'>\n",
    "Essa atividade será executada pela função 'htmlSite', que fará a requisição do código HTML do site e ajustá-lo.<br>\n",
    "\n",
    "Obs:<br>\n",
    "\n",
    "Para que a função funcione, é necessário o Usuário agente (headers) do seu navegador (Chrome), para que <br>\n",
    "possa ser requerido o conteúdo do site, que virá em formato de byte. A partir disso transformamos o <br>\n",
    "formato byte usando a codificação correta, tornando-o texto e, em seguida, estruturando-o como objeto <br>\n",
    "BeautifulSoup, para futuras consultas de tags.    \n",
    "</font>"
   ]
  },
  {
   "cell_type": "code",
   "execution_count": 3,
   "metadata": {},
   "outputs": [],
   "source": [
    "# Função para extrair o código HTML do site de interesse\n",
    "def htmlSite( url: str, decode: str = 'latin1' ) -> str:\n",
    "\n",
    "    \"\"\"\n",
    "    Argumentos:\n",
    "        url    (str): link do site de interesse;\\n\n",
    "        decode (str): codificação para converter o conteúdo html de bytes para texto\n",
    "    \"\"\"\n",
    "\n",
    "    try:\n",
    "        # Fazendo requisição de acesso ao html do link\n",
    "        requisicao = requests.get( url, headers = headers, timeout = 4 )\n",
    "\n",
    "        # Conteúdo do site ilegível e em formato byte\n",
    "        resposta_bytes = requisicao.content\n",
    "\n",
    "        # Conteúdo do site em formato de texto, ainda ilegível\n",
    "        html_pagina = resposta_bytes.decode( decode )\n",
    "\n",
    "        # Texto html corrido, separado por tags, perfeitamente legível\n",
    "        return bs4.BeautifulSoup( html_pagina, 'html.parser' )\n",
    "\n",
    "    # Caso falhe, apenas passe, não trave a execução do scrip geral\n",
    "    except: pass"
   ]
  },
  {
   "attachments": {},
   "cell_type": "markdown",
   "metadata": {},
   "source": [
    "A seguir, um exemplo do que essa função faz.\n",
    "\n",
    "Vamos entrar no site da câmara de vereadores e consultar uma página de uma proposição que se refere a uma indicação qualquer:"
   ]
  },
  {
   "cell_type": "code",
   "execution_count": 4,
   "metadata": {},
   "outputs": [
    {
     "data": {
      "text/html": [
       "\n",
       "        <iframe\n",
       "            width=\"800\"\n",
       "            height=\"400\"\n",
       "            src=\"https://www.legislador.com.br//LegisladorWEB.ASP?WCI=ProposicaoTexto&ID=3&TPProposicao=1&nrProposicao=300&aaProposicao=2007\"\n",
       "            frameborder=\"0\"\n",
       "            allowfullscreen\n",
       "            \n",
       "        ></iframe>\n",
       "        "
      ],
      "text/plain": [
       "<IPython.lib.display.IFrame at 0x2c3101ae6b0>"
      ]
     },
     "execution_count": 4,
     "metadata": {},
     "output_type": "execute_result"
    }
   ],
   "source": [
    "# Url para exemplo\n",
    "exemplo = 'https://www.legislador.com.br//LegisladorWEB.ASP?WCI=ProposicaoTexto&ID=3&TPProposicao=1&nrProposicao=300&aaProposicao=2007'\n",
    "\n",
    "# Visualizando página do link\n",
    "IFrame( exemplo, width = '800', height = '400' )"
   ]
  },
  {
   "attachments": {},
   "cell_type": "markdown",
   "metadata": {},
   "source": [
    "Agora, **resumo** do conteúdo HTML da página:"
   ]
  },
  {
   "cell_type": "code",
   "execution_count": 5,
   "metadata": {},
   "outputs": [
    {
     "name": "stdout",
     "output_type": "stream",
     "text": [
      "<!DOCTYPE html>\n",
      "<html>\n",
      " <head>\n",
      "  <meta charset=\"utf-8\"/>\n",
      "  <meta content=\"width=device-width, initial-scale=1, shrink-to-fit=no\" name=\"viewport\"/>\n",
      "  <link href=\"legis.ico\" rel=\"shortcut icon\" type=\"image/x-ico\"/>\n",
      "  <title>\n",
      "   Câmara Municipal de Indaial _ Indicação nº 300/2007 de 20/03/2007\n",
      "  </title>\n",
      "  <meta content=\"Câmara Municipal de Indaial _ Indicação nº 300/2007 de 20/03/2007\" name=\"description\">\n",
      "   <link href=\"css/geral3.css\" rel=\"stylesheet\"/>\n",
      "   <link href=\"https://d11gitgevq44cw.cloudfront.net/libs/font-awesome/5x/css/all.min.css\" rel=\"stylesheet\"/>\n",
      "   <link crossorigin=\"anonymous\" href=\"https://maxcdn.bootstrapcdn.com/bootstrap/4.0.0/css/bootstrap.min.css\" integrity=\"sha384-Gn5384xqQ1aoWXA+058RXPxPg6fy4IWvTNh0E263XmFcJlSAwiGgFAW/dAiS6JXm\" rel=\"stylesheet\"/>\n",
      "   <script crossorigin=\"anonymous\" integrity=\"sha256-FgpCb/KJQlLNfOu91ta32o/NMZxltwRo8QtmkMRdAu8=\" src=\"https://code.jquery.com/jquery-3.3.1.min.js\">\n",
      "   </script>\n",
      "   \n"
     ]
    }
   ],
   "source": [
    "# Usando a função criada, com o método prettify para identar o código\n",
    "html = htmlSite( exemplo ).prettify()\n",
    "\n",
    "# Mostrando o código html do site (apenas as primeiras linhas)\n",
    "print( html[:946] )"
   ]
  },
  {
   "attachments": {},
   "cell_type": "markdown",
   "metadata": {},
   "source": [
    "### **Dados a serem extraídos**\n",
    "<font size = '3'>\n",
    "Tendo o HTML em mãos, podemos agora extrair seus dados.\n",
    "\n",
    "No exemplo a seguir, veremos que nossos dados estarão armazenados nas tags 'dt' (colunas) e 'dd' (linha ou dados), as quais<br>\n",
    "podemos encontrar usando o método '.find_all()'.\n",
    "</font>\n"
   ]
  },
  {
   "cell_type": "code",
   "execution_count": 6,
   "metadata": {},
   "outputs": [
    {
     "name": "stdout",
     "output_type": "stream",
     "text": [
      "[<dt class=\"col-sm-3\">Reunião</dt>, <dt class=\"col-sm-3\">Deliberação</dt>, <dt class=\"col-sm-3\">Situação</dt>, <dt class=\"col-sm-3\">Assunto</dt>, <dt class=\"col-sm-3\">Autor</dt>]\n",
      "[<dd class=\"col-sm-9\">20/03/2007</dd>, <dd class=\"col-sm-9\">20/03/2007</dd>, <dd class=\"col-sm-9\">Proposição Aprovada</dd>, <dd class=\"col-sm-9\">Abrigo de passageiros</dd>, <dd class=\"col-sm-9\">Vereador <br/><b>Rubens Reinhold Ittner</b>.</dd>]\n"
     ]
    }
   ],
   "source": [
    "# Url para exemplo\n",
    "exemplo = 'https://www.legislador.com.br//LegisladorWEB.ASP?WCI=ProposicaoTexto&ID=3&TPProposicao=1&nrProposicao=300&aaProposicao=2007'\n",
    "\n",
    "# Conteúdo HTML do site\n",
    "html = htmlSite( exemplo )\n",
    "\n",
    "# Mostrando todas as tags 'dt' e 'dd' e seus respectivos conteúdos\n",
    "print( html.find_all( 'dt' ) )\n",
    "print( html.find_all( 'dd' ) )"
   ]
  },
  {
   "cell_type": "markdown",
   "metadata": {},
   "source": [
    "Para ficar mais visível os valores:"
   ]
  },
  {
   "cell_type": "code",
   "execution_count": 7,
   "metadata": {},
   "outputs": [
    {
     "name": "stdout",
     "output_type": "stream",
     "text": [
      "['Reunião', 'Deliberação', 'Situação', 'Assunto', 'Autor']\n",
      "['20/03/2007', '20/03/2007', 'Proposição Aprovada', 'Abrigo de passageiros', 'Vereador Rubens Reinhold Ittner.']\n"
     ]
    }
   ],
   "source": [
    "# Mostrando os respectivos conteúdos das tags 'dt' e 'dd'\n",
    "print( [ i.get_text() for i in html.find_all( 'dt' ) ] )\n",
    "print( [ i.get_text() for i in html.find_all( 'dd' ) ] )"
   ]
  },
  {
   "attachments": {},
   "cell_type": "markdown",
   "metadata": {},
   "source": [
    "Podemos verificar que é o mesmo conteúdo que conseguimos ver na página formatado como tabela."
   ]
  },
  {
   "attachments": {},
   "cell_type": "markdown",
   "metadata": {},
   "source": [
    "### **Extração de dados do HTML**\n",
    "<font size = '3'>\n",
    "Essa atividade será executada pela função 'dadosProposicao', que extrairá dados de tags de <br>\n",
    "'dt' e 'dd' e armazenará em um DataFrame pandas.<br>\n",
    "\n",
    "A url das proposições segue um padrão, onde 1º temos o tipo de proposição, logo após o número dela e, por fim, <br>\n",
    "o ano em que a respectiva foi realizada; dessa forma, com o uso de iterações podemos fazer requisições em larga <br>\n",
    "escala e extrair os dados. <br>\n",
    "\n",
    "Um ponto de obervação que devemos ter é a possibilidade de a página requisitada não retornar dados, por exemplo: <br>\n",
    "no ano de 20xx tiveram 1.000 proposições, e na nossa requisição procuramos pela número 1.001... ela irá falhar. <br>\n",
    "Dessa forma, identifiquei dois padrões: quando a proposição requisitada não existe ou não está disponível e armazenei <br>\n",
    "na variável 'condicoes'. Após isso, com auxílio de um if, construí um bloco de verificação.<br>\n",
    "\n",
    "O projeto realizado só focará na extrações de proposições referentes a indicações.\n",
    "</font>"
   ]
  },
  {
   "cell_type": "code",
   "execution_count": 8,
   "metadata": {},
   "outputs": [],
   "source": [
    "# Função para, a partir do HTML do site da prefeitura, coletar dados das tags de interesse e armazenar em um DataFrame\n",
    "def dadosProposicao( ano: int, num_proposicao: int, tipo_proposicao: int = 1 ) -> pd.DataFrame:\n",
    "\n",
    "    \"\"\"\n",
    "    Argumentos:\n",
    "        ano               (int): ano em que as proposições foram realizadas;\\n\n",
    "        num_proposicao    (int): Define a partir de qual proposição iniciará a extração;\\n\n",
    "        tipo_proposicao   (int): definir se a proposição é uma indicação (1), requerimento (2) ou moção (3).\n",
    "    \"\"\"\n",
    "\n",
    "    # Url do site, para encontrar a preposição\n",
    "    site = f'https://www.legislador.com.br//LegisladorWEB.ASP?WCI=ProposicaoTexto&ID=3&TPProposicao={ tipo_proposicao }&nrProposicao={ num_proposicao }&aaProposicao={ ano }'\n",
    "\n",
    "    # HTML do site\n",
    "    html = htmlSite( site )\n",
    "\n",
    "    # VERIFICAÇÃO DE PROPOSIÇÃO INEXISTENTE ----------------------------------------------\n",
    "\n",
    "    condicoes = ( ( html.find_all( 'dt' ) == []               ) or # Verifica se as tags onde guardam os nomes das colunas existem\n",
    "                  ( 'Proposição não existente' in str( html ) ) )  # Verifica se a substring está contida no HTML\n",
    "\n",
    "    # COLETANDO DADOS DO SITE ------------------------------------------------------------\n",
    "\n",
    "    # Se a proposição não existir, retorne um erro no output; se existir, colete os dados\n",
    "    if  condicoes: raise ValueError()\n",
    "\n",
    "    else:\n",
    "        # Criando estrutura do DataFrame esperado\n",
    "        dfEstrutural = pd.DataFrame( columns = ['Reunião', 'Deliberação', 'Situação', 'Assunto', 'Autor', 'Proposição', 'Ano', 'Texto'] )\n",
    "\n",
    "        # Coletando apenas tags de interesse\n",
    "        html_colunas = html.find_all( 'dt' ) # No HTML do site, 'dt' é a tag com o nome das colunas \n",
    "        html_linha   = html.find_all( 'dd' ) # No HTML do site, 'dd' é a tag em que o conteúdo da linha está contido\n",
    "\n",
    "        # Gerando DataFrame com todos os textos contidos nas tags de interesse\n",
    "        dados = pd.DataFrame( columns = [   i.get_text() for i in html_colunas  ],\n",
    "                              data    = [ [ i.get_text() for i in html_linha  ] ] ) # É necessário envolver em lista dupla\n",
    "\n",
    "        # Registrando informações que não estão nas tags consultadas\n",
    "        dados['Proposição'] = num_proposicao\n",
    "        dados['Ano'       ] = ano\n",
    "        dados['Texto'     ] = html.p.get_text()\n",
    "\n",
    "        # Concantenando para, caso a proposição não tiver dados de uma coluna, a estrutura da tabela não se alterar\n",
    "        df = pd.concat( [ dfEstrutural, dados ] )\n",
    "\n",
    "        # Ajustando tipo de dados das colunas\n",
    "        df['Reunião'    ] = pd.to_datetime( df['Reunião'    ], dayfirst = True, errors = 'coerce' )\n",
    "        df['Deliberação'] = pd.to_datetime( df['Deliberação'], dayfirst = True, errors = 'coerce' )\n",
    "        \n",
    "        df = df.astype( { 'Reunião'        : str, # str porque o sqlite rejeita dados no formato datetime[ns] do pandas\n",
    "                          'Deliberação'    : str, # str porque o sqlite rejeita dados no formato datetime[ns] do pandas\n",
    "                          'Situação'       : str,\n",
    "                          'Assunto'        : str,\n",
    "                          'Autor'          : str,\n",
    "                          'Proposição'     : int,\n",
    "                          'Ano'            : int,\n",
    "                          'Texto'          : str } )\n",
    "\n",
    "    return df"
   ]
  },
  {
   "attachments": {},
   "cell_type": "markdown",
   "metadata": {},
   "source": [
    "Para exemplificar o resultado da função criada, podemos observar uma tabela (DataFrame pandas), com os mesmos<br>\n",
    "dados que vimos mais acima na página web, como também no conteúdo das tags HTML."
   ]
  },
  {
   "cell_type": "code",
   "execution_count": 9,
   "metadata": {},
   "outputs": [
    {
     "data": {
      "text/html": [
       "<div>\n",
       "<style scoped>\n",
       "    .dataframe tbody tr th:only-of-type {\n",
       "        vertical-align: middle;\n",
       "    }\n",
       "\n",
       "    .dataframe tbody tr th {\n",
       "        vertical-align: top;\n",
       "    }\n",
       "\n",
       "    .dataframe thead th {\n",
       "        text-align: right;\n",
       "    }\n",
       "</style>\n",
       "<table border=\"1\" class=\"dataframe\">\n",
       "  <thead>\n",
       "    <tr style=\"text-align: right;\">\n",
       "      <th></th>\n",
       "      <th>Reunião</th>\n",
       "      <th>Deliberação</th>\n",
       "      <th>Situação</th>\n",
       "      <th>Assunto</th>\n",
       "      <th>Autor</th>\n",
       "      <th>Proposição</th>\n",
       "      <th>Ano</th>\n",
       "      <th>Texto</th>\n",
       "    </tr>\n",
       "  </thead>\n",
       "  <tbody>\n",
       "    <tr>\n",
       "      <th>0</th>\n",
       "      <td>2007-03-20</td>\n",
       "      <td>2007-03-20</td>\n",
       "      <td>Proposição Aprovada</td>\n",
       "      <td>Abrigo de passageiros</td>\n",
       "      <td>Vereador Rubens Reinhold Ittner.</td>\n",
       "      <td>300</td>\n",
       "      <td>2007</td>\n",
       "      <td>Implantação de um abrigo de passageiros na esquina das ruas Ilse Pequena com Mal. Deodoro da Fonseca, bairro Warnow.*com cópia para Setor de Trânsito.\\n</td>\n",
       "    </tr>\n",
       "  </tbody>\n",
       "</table>\n",
       "</div>"
      ],
      "text/plain": [
       "      Reunião Deliberação             Situação                Assunto   \n",
       "0  2007-03-20  2007-03-20  Proposição Aprovada  Abrigo de passageiros  \\\n",
       "\n",
       "                              Autor  Proposição   Ano   \n",
       "0  Vereador Rubens Reinhold Ittner.         300  2007  \\\n",
       "\n",
       "                                                                                                                                                      Texto  \n",
       "0  Implantação de um abrigo de passageiros na esquina das ruas Ilse Pequena com Mal. Deodoro da Fonseca, bairro Warnow.*com cópia para Setor de Trânsito.\\n  "
      ]
     },
     "execution_count": 9,
     "metadata": {},
     "output_type": "execute_result"
    }
   ],
   "source": [
    "# Não impor limite de caracteres na esposição de tabelas do pandas\n",
    "pd.options.display.max_colwidth = None\n",
    "\n",
    "# Usando os mesmos dados dos exemplos anteriores\n",
    "dadosProposicao( 2007, 300 )"
   ]
  },
  {
   "cell_type": "code",
   "execution_count": 10,
   "metadata": {},
   "outputs": [
    {
     "name": "stdout",
     "output_type": "stream",
     "text": [
      "<class 'pandas.core.frame.DataFrame'>\n",
      "RangeIndex: 1 entries, 0 to 0\n",
      "Data columns (total 8 columns):\n",
      " #   Column       Non-Null Count  Dtype \n",
      "---  ------       --------------  ----- \n",
      " 0   Reunião      1 non-null      object\n",
      " 1   Deliberação  1 non-null      object\n",
      " 2   Situação     1 non-null      object\n",
      " 3   Assunto      1 non-null      object\n",
      " 4   Autor        1 non-null      object\n",
      " 5   Proposição   1 non-null      int32 \n",
      " 6   Ano          1 non-null      int32 \n",
      " 7   Texto        1 non-null      object\n",
      "dtypes: int32(2), object(6)\n",
      "memory usage: 184.0+ bytes\n"
     ]
    }
   ],
   "source": [
    "# Estrutura da planilha\n",
    "dadosProposicao( 2007, 300 ).info()"
   ]
  },
  {
   "attachments": {},
   "cell_type": "markdown",
   "metadata": {},
   "source": [
    "### **Extração e armazenamento dos dados**\n",
    "<font size = '3'>\n",
    "Tendo acesso ao HTML e construído o código de extração de seus dados, o foco agora é direcionado <br>\n",
    "para coleta e inserção dos dados no banco de dados de forma continuada entre os anos e suas respectivas<br>\n",
    "proposições.<br>\n",
    "\n",
    "Para isso, duas atividades são necessárias:<br>\n",
    "1. contrução do banco de dados e da tabela onde os dados serão gravados;\n",
    "2. construção do loop para consulta e iserção dos dados no banco.\n",
    "\n",
    "</font>"
   ]
  },
  {
   "attachments": {},
   "cell_type": "markdown",
   "metadata": {},
   "source": [
    "#### **Banco de dados**"
   ]
  },
  {
   "attachments": {},
   "cell_type": "markdown",
   "metadata": {},
   "source": [
    "Primeiro, precisamos criar ou nos conectar com o banco de dados e seu objeto executor de comandos."
   ]
  },
  {
   "cell_type": "code",
   "execution_count": 11,
   "metadata": {},
   "outputs": [],
   "source": [
    "# Criando ou, caso já exista, conectando-se ao banco de dados do projeto\n",
    "con = sqlite3.connect( 'indicacoesIndaialSC.db' )\n",
    "\n",
    "# Objeto para executar comandos e recuperar resultados do banco de dados\n",
    "cursor = con.cursor()"
   ]
  },
  {
   "attachments": {},
   "cell_type": "markdown",
   "metadata": {},
   "source": [
    "Agora, precisamos verificar se a tabela que será utilizada no projeto já existe no banco de dados."
   ]
  },
  {
   "cell_type": "code",
   "execution_count": 12,
   "metadata": {},
   "outputs": [
    {
     "name": "stdout",
     "output_type": "stream",
     "text": [
      "Tabela já existe.\n"
     ]
    }
   ],
   "source": [
    "# Query para verificar se a tabela 'indicacoes' existe\n",
    "query = \"\"\" SELECT name\n",
    "            FROM   sqlite_master\n",
    "            WHERE  type = 'table' AND name = 'indicacoes' \"\"\"\n",
    "\n",
    "# Código para executar a query e fazer a verificação no banco de dados\n",
    "verificacao = cursor.execute( query ).fetchone()\n",
    "\n",
    "# Se a planilha não existir\n",
    "if verificacao is None:\n",
    "\n",
    "    # Query para criação de uma tabela\n",
    "    criacao = \"\"\" CREATE TABLE indicacoes( dt_reuniao     DATETIME,\n",
    "                                           dt_deliberacao DATETIME,\n",
    "                                           situacao       TEXT,\n",
    "                                           assunto        TEXT,\n",
    "                                           autor          TEXT,\n",
    "                                           proposicao     INTEGER,\n",
    "                                           ano            INTEGER,\n",
    "                                           texto          TEXT ) \"\"\"\n",
    "    # Criando tabela\n",
    "    cursor.execute( criacao )\n",
    "\n",
    "    # Salvando alteração\n",
    "    con.commit()\n",
    "\n",
    "    # Registrando\n",
    "    print( 'Tabela não existia e foi criada.' )\n",
    "\n",
    "# Se a planilha existir\n",
    "else:\n",
    "    \n",
    "    # Registrando\n",
    "    print( 'Tabela já existe.' )"
   ]
  },
  {
   "attachments": {},
   "cell_type": "markdown",
   "metadata": {},
   "source": [
    "#### **Inserções de dados no banco**\n",
    "<font size = '3'>\n",
    "Tendo criado o banco, o objetivo agora é, a partir da possibilidade de extração dos dados, armazená-los<br>\n",
    "dentro dele.\n",
    "\n",
    "Para isso, o loop escolhido foi o while que armazenará a seguinte estrutura de repetição:\n",
    "1. a cada nova requisição, deve-se observar qual a última proposição inserida na tabela que pertence ao<br>\n",
    "ano corrente e definir que a próxima deve ser a requisitada;\n",
    "2. tendo extraído os dados do html, devem ser imediantamente armazenados no banco de dados.<br>\n",
    "\n",
    "A única restrição que o while deve atender para não ter sua execução finalizada é a de erros admissíveis:<br>\n",
    "se não puder extrair os dados 3 vezes seguidas, o while é encerrado.<br>\n",
    "\n",
    "Nas situações onde, por exemplo, no ano 2000, a preposição imediatamente posterior a 1º é a 3º,<br>\n",
    "o erro contabilizado após a falha da requisição da 2º preposição é anulado com a execução sem erros da 3º.<br>\n",
    "Dessa forma, garantindo que a maior parte dos dados sejam devidamente extraídos.\n",
    "\n",
    "</font>"
   ]
  },
  {
   "cell_type": "code",
   "execution_count": 13,
   "metadata": {},
   "outputs": [],
   "source": [
    "# Função para extrair dados de proposições (indicações) e inserí-los no banco de dados\n",
    "def inserirProposicoes( ano: int, erros_admissiveis: int = 3, seg_espera: float = 1):\n",
    "\n",
    "    \"\"\"\n",
    "    Argumentos:\n",
    "        ano                 (int): ano em que as proposições foram realizadas;\\n\n",
    "        erros_admissiveis   (int): quantas vezes a requisição pode falhar até entender que não há mais dados.\\n\n",
    "        seg_espera        (float): quantidade de tempo de espera até realizar próxima execução.\n",
    "    \"\"\"\n",
    "\n",
    "    # Variáveis do loop\n",
    "    erros_ocorridos  = 0\n",
    "    qtd_consultas    = 1 # Quantidade de consultas realizadas\n",
    "\n",
    "    # Iteração\n",
    "    while erros_ocorridos < erros_admissiveis:\n",
    "\n",
    "        # Mostrar qual é a consulta que está sendo realizada\n",
    "        print( f'{ qtd_consultas } consulta(s) realizada(s).' )\n",
    "\n",
    "        # INSERIR DADOS DAS PROPOSIÇÕES DO RESPECTIVO ANO NO BANCO DE DADOS ---------------------------------\n",
    "        try:\n",
    "            # Verificar qual a última proposição que foi inserida na tabela para o respectivo ano\n",
    "            query = f\"\"\"\n",
    "                     SELECT MAX( proposicao )\n",
    "                     FROM indicacoes\n",
    "                     WHERE ano = { ano }\n",
    "                     \"\"\"\n",
    "\n",
    "            # Extrair o último valor da consulta, usando iloc e reforçando que o valor é inteiro\n",
    "            ultProposicaoQuery = pd.read_sql_query( query, con ).iloc[ 0, 0 ]\n",
    "\n",
    "            # Verificação: se não houver proposições para o respectivo ano, adicionar 1 a variável\n",
    "            if ultProposicaoQuery == None:\n",
    "                prox_proposicao = 1\n",
    "\n",
    "            else:\n",
    "                prox_proposicao = int( ultProposicaoQuery ) + 1 + erros_ocorridos\n",
    "\n",
    "            # WebScraping da proposição definida\n",
    "            df = dadosProposicao( ano, prox_proposicao )\n",
    "\n",
    "            # Inserindo a proposição no banco de dados\n",
    "            for i, linha in df.iterrows():\n",
    "\n",
    "                # Inserindo resultados do Dataframe na tabela do banco de dados\n",
    "                cursor.execute( \"INSERT INTO indicacoes VALUES( ?, ?, ?, ?, ?, ?, ?, ? )\",\n",
    "                                ( linha[ 'Reunião'     ],\n",
    "                                  linha[ 'Deliberação' ],\n",
    "                                  linha[ 'Situação'    ],\n",
    "                                  linha[ 'Assunto'     ],\n",
    "                                  linha[ 'Autor'       ],\n",
    "                                  linha[ 'Proposição'  ],\n",
    "                                  linha[ 'Ano'         ],\n",
    "                                  linha[ 'Texto'       ]  ) )\n",
    "\n",
    "            # Salvando as inserções\n",
    "            con.commit()\n",
    "\n",
    "            # Caso tenha ocorrido 1 erro com a proposição anterior, e a corrente tenha funcionado,\n",
    "            # reseta a contagem de erros\n",
    "            erros_ocorridos = 0\n",
    "\n",
    "        # Caso a função falhe, registrará o erro\n",
    "        except: erros_ocorridos += 1\n",
    "        pass\n",
    "\n",
    "        # Variáveis incrementais: adicionando 1 a cada nova consulta\n",
    "        qtd_consultas += 1\n",
    "\n",
    "        # Aguardar a quantidade de tempo definida para continuar o loop\n",
    "        time.sleep( seg_espera )"
   ]
  },
  {
   "attachments": {},
   "cell_type": "markdown",
   "metadata": {},
   "source": [
    "Tendo o código para extrair os dados e inserí-los no banco, basta fazer um loop que faça essa execução ano a ano"
   ]
  },
  {
   "cell_type": "code",
   "execution_count": 19,
   "metadata": {},
   "outputs": [
    {
     "name": "stdout",
     "output_type": "stream",
     "text": [
      "[1996, 1997, 1998, 1999, 2000, 2001, 2002, 2003, 2004, 2005, 2006, 2007, 2008, 2009, 2010, 2011, 2012, 2013, 2014, 2015, 2016, 2017, 2018, 2019, 2020, 2021, 2022, 2023]\n"
     ]
    }
   ],
   "source": [
    "# Lista de anos que as proposições devem ser coletadas\n",
    "anos = [ i for i in range( 1996, 2024 ) ]\n",
    "\n",
    "print( anos )"
   ]
  },
  {
   "cell_type": "code",
   "execution_count": null,
   "metadata": {},
   "outputs": [],
   "source": [
    "# Iteração: em cada ano, extrair dados de todas as suas proposições\n",
    "for ano in anos:\n",
    "    \n",
    "    # Registro\n",
    "    print( 'Inserindo proposições do ano: ', ano )\n",
    "\n",
    "    # Inserindo proposições\n",
    "    inserirProposicoes( ano )\n",
    "\n",
    "    # Registro\n",
    "    print( 'Finalizado as inserções de proposições do ano: ', ano )"
   ]
  },
  {
   "attachments": {},
   "cell_type": "markdown",
   "metadata": {},
   "source": [
    "Com isso, conseguimos extrair e armazenar no banco de dados todas as proposições (indicações) de todos os anos, desde o ínicio do registro em 1996."
   ]
  }
 ],
 "metadata": {
  "kernelspec": {
   "display_name": "venv",
   "language": "python",
   "name": "python3"
  },
  "language_info": {
   "codemirror_mode": {
    "name": "ipython",
    "version": 3
   },
   "file_extension": ".py",
   "mimetype": "text/x-python",
   "name": "python",
   "nbconvert_exporter": "python",
   "pygments_lexer": "ipython3",
   "version": "3.10.9"
  },
  "orig_nbformat": 4
 },
 "nbformat": 4,
 "nbformat_minor": 2
}
